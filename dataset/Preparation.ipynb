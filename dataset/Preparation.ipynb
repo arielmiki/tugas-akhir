{
 "cells": [
  {
   "cell_type": "code",
   "execution_count": 1,
   "metadata": {},
   "outputs": [],
   "source": [
    "import pandas as pd"
   ]
  },
  {
   "cell_type": "markdown",
   "metadata": {},
   "source": [
    "## Util Function"
   ]
  },
  {
   "cell_type": "code",
   "execution_count": 38,
   "metadata": {},
   "outputs": [],
   "source": [
    "def filter_question_mark(row):\n",
    "    return all([i != '?' for i in row])"
   ]
  },
  {
   "cell_type": "code",
   "execution_count": 39,
   "metadata": {},
   "outputs": [],
   "source": [
    "def encode_value(x):\n",
    "    if x == 'n':\n",
    "        return 0\n",
    "    if x == 'y':\n",
    "        return 1\n",
    "    if x == '?':\n",
    "        return 0.5\n",
    "    return x"
   ]
  },
  {
   "cell_type": "markdown",
   "metadata": {},
   "source": [
    "## Wine"
   ]
  },
  {
   "cell_type": "code",
   "execution_count": 18,
   "metadata": {},
   "outputs": [],
   "source": [
    "column_name = [\n",
    "    'label',\n",
    "    'alcohol', 'malic_acid', 'ash', \n",
    "    'alcalinity_of_ash', 'magnesium', \n",
    "    'total_phenols', 'flavanoids',\n",
    "    'nonflavanoids_phenols', 'proanthocyanins',\n",
    "    'color_intensity', 'hue', 'OD280_or_OD315_of_diluted_wines',\n",
    "    'proline']"
   ]
  },
  {
   "cell_type": "code",
   "execution_count": 19,
   "metadata": {},
   "outputs": [],
   "source": [
    "df = pd.read_csv(\n",
    "    'https://archive.ics.uci.edu/ml/machine-learning-databases/wine/wine.data',\n",
    "    names=column_name)"
   ]
  },
  {
   "cell_type": "code",
   "execution_count": 20,
   "metadata": {},
   "outputs": [
    {
     "data": {
      "text/plain": [
       "label                              0\n",
       "alcohol                            0\n",
       "malic_acid                         0\n",
       "ash                                0\n",
       "alcalinity_of_ash                  0\n",
       "magnesium                          0\n",
       "total_phenols                      0\n",
       "flavanoids                         0\n",
       "nonflavanoids_phenols              0\n",
       "proanthocyanins                    0\n",
       "color_intensity                    0\n",
       "hue                                0\n",
       "OD280_or_OD315_of_diluted_wines    0\n",
       "proline                            0\n",
       "dtype: int64"
      ]
     },
     "execution_count": 20,
     "metadata": {},
     "output_type": "execute_result"
    }
   ],
   "source": [
    "df.isnull().sum()"
   ]
  },
  {
   "cell_type": "code",
   "execution_count": 21,
   "metadata": {},
   "outputs": [],
   "source": [
    "df.to_csv('wine.csv', index=False)"
   ]
  },
  {
   "cell_type": "markdown",
   "metadata": {},
   "source": [
    "## Breast Cancer Coimbra"
   ]
  },
  {
   "cell_type": "code",
   "execution_count": 22,
   "metadata": {},
   "outputs": [],
   "source": [
    "df = pd.read_csv(\n",
    "    'https://archive.ics.uci.edu/ml/machine-learning-databases/00451/dataR2.csv')"
   ]
  },
  {
   "cell_type": "code",
   "execution_count": 23,
   "metadata": {},
   "outputs": [],
   "source": [
    "df.columns = ['age', 'bmi', 'glucose', 'insulin', 'HOMA', 'leptin', 'adiponectin', 'resitin', 'MCP_1', 'label']"
   ]
  },
  {
   "cell_type": "code",
   "execution_count": 24,
   "metadata": {},
   "outputs": [
    {
     "data": {
      "text/plain": [
       "age            0\n",
       "bmi            0\n",
       "glucose        0\n",
       "insulin        0\n",
       "HOMA           0\n",
       "leptin         0\n",
       "adiponectin    0\n",
       "resitin        0\n",
       "MCP_1          0\n",
       "label          0\n",
       "dtype: int64"
      ]
     },
     "execution_count": 24,
     "metadata": {},
     "output_type": "execute_result"
    }
   ],
   "source": [
    "df.isnull().sum()"
   ]
  },
  {
   "cell_type": "code",
   "execution_count": 25,
   "metadata": {},
   "outputs": [],
   "source": [
    "df.to_csv('breast_cancer_coimbra.csv', index=False)"
   ]
  },
  {
   "cell_type": "markdown",
   "metadata": {},
   "source": [
    "## Iris"
   ]
  },
  {
   "cell_type": "code",
   "execution_count": 26,
   "metadata": {},
   "outputs": [],
   "source": [
    "df = pd.read_csv(\n",
    "    'https://archive.ics.uci.edu/ml/machine-learning-databases/iris/iris.data',\n",
    "     names=['sepal_length', 'sepal_width', 'petal_length', 'petal_width', 'label'])"
   ]
  },
  {
   "cell_type": "code",
   "execution_count": 27,
   "metadata": {},
   "outputs": [],
   "source": [
    "df.to_csv('iris.csv', index=False)"
   ]
  },
  {
   "cell_type": "markdown",
   "metadata": {},
   "source": [
    "## Hepatitis"
   ]
  },
  {
   "cell_type": "code",
   "execution_count": 4,
   "metadata": {},
   "outputs": [],
   "source": [
    "column_name = [\n",
    "    'label', \n",
    "    'age', 'sex', 'steroid',\n",
    "    'antivirals', 'fatigure',\n",
    "    'malaise', 'anorexia',\n",
    "    'liver_big', 'liver_firm',\n",
    "    'spleen_palpable', 'spiders',\n",
    "    'ascites', 'varices',\n",
    "    'bilirubin', 'alk_phospates',\n",
    "    'sgot', 'albumim', 'protime',\n",
    "    'histology'\n",
    "]"
   ]
  },
  {
   "cell_type": "code",
   "execution_count": 5,
   "metadata": {},
   "outputs": [],
   "source": [
    "df = pd.read_csv(\n",
    "    'https://archive.ics.uci.edu/ml/machine-learning-databases/hepatitis/hepatitis.data',\n",
    "    names = column_name)"
   ]
  },
  {
   "cell_type": "code",
   "execution_count": 7,
   "metadata": {},
   "outputs": [],
   "source": [
    "df = df[df.apply(filter_question_mark, axis=1)]"
   ]
  },
  {
   "cell_type": "code",
   "execution_count": 8,
   "metadata": {},
   "outputs": [],
   "source": [
    "df.to_csv('hepatitis.csv', index=False)"
   ]
  },
  {
   "cell_type": "markdown",
   "metadata": {
    "collapsed": true
   },
   "source": [
    "## House Votes"
   ]
  },
  {
   "cell_type": "code",
   "execution_count": 3,
   "metadata": {},
   "outputs": [],
   "source": [
    "column_name = [\n",
    "    'label',\n",
    "    'handicapped-infants',\n",
    "    'water-project-cost-sharing',\n",
    "    'adoption-of-the-budget-resolution',\n",
    "    'physician-fee-freeze',\n",
    "    'el-salvador-aid', 'religious-groups-in-schools',\n",
    "    'anti-satellite-test-ban', 'aid-to-nicaraguan-contras',\n",
    "    'mx-missile', 'immigration', 'synfuels-corporation-cutback',\n",
    "    'education-spending', 'superfund-right-to-sue',\n",
    "    'crime', 'duty-free-exports', 'export-administration-act-south-africa'\n",
    "]"
   ]
  },
  {
   "cell_type": "code",
   "execution_count": 4,
   "metadata": {},
   "outputs": [],
   "source": [
    "df = pd.read_csv(\n",
    "    'https://archive.ics.uci.edu/ml/machine-learning-databases/voting-records/house-votes-84.data', \n",
    "    names=column_name)"
   ]
  },
  {
   "cell_type": "code",
   "execution_count": 7,
   "metadata": {},
   "outputs": [],
   "source": [
    "df = df.applymap(encode_value)"
   ]
  },
  {
   "cell_type": "code",
   "execution_count": 8,
   "metadata": {},
   "outputs": [],
   "source": [
    "df.to_csv('voting.csv', index=False)"
   ]
  },
  {
   "cell_type": "markdown",
   "metadata": {},
   "source": [
    "## Zoo Animal"
   ]
  },
  {
   "cell_type": "code",
   "execution_count": 11,
   "metadata": {},
   "outputs": [],
   "source": [
    "column_name = [\n",
    "    'animal_name',\n",
    "    'hair', 'feathers',\n",
    "    'eggs', 'milk',\n",
    "    'airborne', 'aquatic',\n",
    "    'predator', 'toothed', 'backbone',\n",
    "    'breathes', 'venomous',\n",
    "    'fins', 'legs',\n",
    "    'tail', 'domestic', 'catsize',\n",
    "    'label'\n",
    "]"
   ]
  },
  {
   "cell_type": "code",
   "execution_count": 12,
   "metadata": {},
   "outputs": [],
   "source": [
    "df = pd.read_csv(\n",
    "    'https://archive.ics.uci.edu/ml/machine-learning-databases/zoo/zoo.data',\n",
    "     names=column_name)"
   ]
  },
  {
   "cell_type": "code",
   "execution_count": 15,
   "metadata": {},
   "outputs": [],
   "source": [
    "df.to_csv('zoo.csv', index=False)"
   ]
  },
  {
   "cell_type": "markdown",
   "metadata": {},
   "source": [
    "## Yeast"
   ]
  },
  {
   "cell_type": "code",
   "execution_count": 8,
   "metadata": {},
   "outputs": [],
   "source": [
    "column_name = [\n",
    "    'seq_name', 'mcg', 'gvh', 'alm',\n",
    "    'mit', 'erl', 'pox', 'vac', 'nuc',\n",
    "    'label'\n",
    "]"
   ]
  },
  {
   "cell_type": "code",
   "execution_count": 9,
   "metadata": {},
   "outputs": [],
   "source": [
    "df = pd.read_csv(\n",
    "    'https://archive.ics.uci.edu/ml/machine-learning-databases/yeast/yeast.data',\n",
    "    sep=r'\\s+', names= column_name)"
   ]
  },
  {
   "cell_type": "code",
   "execution_count": 14,
   "metadata": {},
   "outputs": [],
   "source": [
    "df = df.drop('seq_name', axis=1).sample(random_state=42, n=120)"
   ]
  },
  {
   "cell_type": "code",
   "execution_count": 15,
   "metadata": {},
   "outputs": [],
   "source": [
    "df.to_csv('yeast.csv', index=False)"
   ]
  },
  {
   "cell_type": "markdown",
   "metadata": {},
   "source": [
    "## E. Coli"
   ]
  },
  {
   "cell_type": "code",
   "execution_count": 16,
   "metadata": {},
   "outputs": [],
   "source": [
    "column_name = [\n",
    "    'seq_name',  'mcg', 'gvh', 'lip',\n",
    "    'chg', 'aac', 'alm1', 'alm2',\n",
    "    'label'\n",
    "]"
   ]
  },
  {
   "cell_type": "code",
   "execution_count": 17,
   "metadata": {},
   "outputs": [],
   "source": [
    "df = pd.read_csv(\n",
    "    'https://archive.ics.uci.edu/ml/machine-learning-databases/ecoli/ecoli.data',\n",
    "    sep=r'\\s+', names= column_name)"
   ]
  },
  {
   "cell_type": "code",
   "execution_count": 20,
   "metadata": {},
   "outputs": [],
   "source": [
    "df = df.drop('seq_name', axis=1).sample(random_state=42, n=120)"
   ]
  },
  {
   "cell_type": "code",
   "execution_count": 21,
   "metadata": {},
   "outputs": [],
   "source": [
    "df.to_csv('ecoli.csv', index=False)"
   ]
  },
  {
   "cell_type": "markdown",
   "metadata": {},
   "source": [
    "## Echocardiogram"
   ]
  },
  {
   "cell_type": "code",
   "execution_count": 29,
   "metadata": {},
   "outputs": [],
   "source": [
    "column_name = [\n",
    "    'survival', 'label', 'age_at_heart_attack', \n",
    "    'perircadial_effusion', 'fractional_shortenting', \n",
    "    'epss', 'lvdd', 'wall_motion_score', 'wall_motion_index', \n",
    "    'mult', 'name', 'group', 'alive_at_1']"
   ]
  },
  {
   "cell_type": "code",
   "execution_count": 30,
   "metadata": {},
   "outputs": [],
   "source": [
    "df = pd.read_csv(\n",
    "    'raw/echocardiogram.data',\n",
    "    names= column_name)"
   ]
  },
  {
   "cell_type": "code",
   "execution_count": 34,
   "metadata": {},
   "outputs": [],
   "source": [
    "# drop derived attribute (see: raw/echocardiogram.names)\n",
    "df = df.drop(['mult', 'name', 'group', 'alive_at_1'], axis=1)"
   ]
  },
  {
   "cell_type": "code",
   "execution_count": 40,
   "metadata": {},
   "outputs": [],
   "source": [
    "df = df[df.apply(filter_question_mark, axis=1)]"
   ]
  },
  {
   "cell_type": "code",
   "execution_count": 42,
   "metadata": {},
   "outputs": [],
   "source": [
    "df.to_csv('echocardiogram.csv', index=False)"
   ]
  }
 ],
 "metadata": {
  "kernelspec": {
   "display_name": "Python 3",
   "language": "python",
   "name": "python3"
  },
  "language_info": {
   "codemirror_mode": {
    "name": "ipython",
    "version": 3
   },
   "file_extension": ".py",
   "mimetype": "text/x-python",
   "name": "python",
   "nbconvert_exporter": "python",
   "pygments_lexer": "ipython3",
   "version": "3.7.3"
  }
 },
 "nbformat": 4,
 "nbformat_minor": 2
}
